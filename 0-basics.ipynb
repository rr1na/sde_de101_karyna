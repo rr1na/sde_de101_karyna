folder/0-basics.ipynb
